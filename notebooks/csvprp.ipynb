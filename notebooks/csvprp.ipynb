{
 "cells": [
  {
   "cell_type": "code",
   "execution_count": 68,
   "metadata": {},
   "outputs": [
    {
     "data": {
      "text/plain": [
       "[['Gu', 'Korean', 'Foreigner', 'Senior'],\n",
       " ['Total', '9,740,398', '285,529', '1,468,146'],\n",
       " ['Jongrogu', '151,767', '11,093', '27,394'],\n",
       " ['Jongru', '126,409', '10,254', '23,025'],\n",
       " ['Yongsangu', '228,830', '16,159', '38,531'],\n",
       " ['Seongdonggu', '303,158', '8,132', '43,662'],\n",
       " ['Kwangjingu', '352,692', '15,645', '47,347'],\n",
       " ['Dongdaemoongu', '346,551', '17,228', '58,764'],\n",
       " ['Jungranggu', '398,812', '4,964', '64,449'],\n",
       " ['Seongbukgu', '441,590', '12,524', '70,204'],\n",
       " ['Gangbukgu', '314,090', '3,785', '59,808'],\n",
       " ['Dobonggu', '335,280', '2,314', '58,070'],\n",
       " ['Nowonggu', '535,282', '4,547', '79,968'],\n",
       " ['Eunpyonggu', '481,663', '4,496', '79,957'],\n",
       " ['Seodaemungu', '310,069', '14,020', '51,708'],\n",
       " ['Mapogu', '373,629', '11,976', '51,961'],\n",
       " ['Yangcheongu', '459,849', '4,082', '60,487'],\n",
       " ['Gangseogu', '593,708', '6,532', '82,937'],\n",
       " ['Gurogu', '406,748', '33,102', '64,952'],\n",
       " ['Guemcheongu', '233,371', '19,497', '37,191'],\n",
       " ['Youngdeungpogu', '368,402', '34,076', '57,350'],\n",
       " ['Dongjakgu', '397,618', '12,869', '61,607'],\n",
       " ['Kwanakgu', '502,117', '17,836', '74,518'],\n",
       " ['Seoucheogu', '431,027', '4,231', '56,455'],\n",
       " ['Gangnamgu', '544,028', '5,015', '70,029'],\n",
       " ['Songpagu', '677,489', '6,849', '86,062'],\n",
       " ['Gangdonggu', '426,219', '4,303', '61,710']]"
      ]
     },
     "execution_count": 68,
     "metadata": {},
     "output_type": "execute_result"
    }
   ],
   "source": [
    "# csv파일 읽기\n",
    "import csv, os\n",
    "\n",
    "output = []\n",
    "\n",
    "os.chdir('../data/')\n",
    "\n",
    "f = open('popSeoul.csv','r', encoding='utf-8')\n",
    "\n",
    "new = csv.reader(f)\n",
    "\n",
    "for i in new:\n",
    "    #print(i)\n",
    "    output.append(i)\n",
    "\n",
    "output"
   ]
  },
  {
   "cell_type": "code",
   "execution_count": 69,
   "metadata": {},
   "outputs": [
    {
     "name": "stdout",
     "output_type": "stream",
     "text": [
      "[['Gu', 'Korean', 'Foreigner', 'Senior'], ['Total', '9,740,398', '285,529', '1,468,146'], ['Jongrogu', '151,767', '11,093', '27,394'], ['Jongru', '126,409', '10,254', '23,025'], ['Yongsangu', '228,830', '16,159', '38,531'], ['Seongdonggu', '303,158', '8,132', '43,662'], ['Kwangjingu', '352,692', '15,645', '47,347'], ['Dongdaemoongu', '346,551', '17,228', '58,764'], ['Jungranggu', '398,812', '4,964', '64,449'], ['Seongbukgu', '441,590', '12,524', '70,204'], ['Gangbukgu', '314,090', '3,785', '59,808'], ['Dobonggu', '335,280', '2,314', '58,070'], ['Nowonggu', '535,282', '4,547', '79,968'], ['Eunpyonggu', '481,663', '4,496', '79,957'], ['Seodaemungu', '310,069', '14,020', '51,708'], ['Mapogu', '373,629', '11,976', '51,961'], ['Yangcheongu', '459,849', '4,082', '60,487'], ['Gangseogu', '593,708', '6,532', '82,937'], ['Gurogu', '406,748', '33,102', '64,952'], ['Guemcheongu', '233,371', '19,497', '37,191'], ['Youngdeungpogu', '368,402', '34,076', '57,350'], ['Dongjakgu', '397,618', '12,869', '61,607'], ['Kwanakgu', '502,117', '17,836', '74,518'], ['Seoucheogu', '431,027', '4,231', '56,455'], ['Gangnamgu', '544,028', '5,015', '70,029'], ['Songpagu', '677,489', '6,849', '86,062'], ['Gangdonggu', '426,219', '4,303', '61,710']]\n"
     ]
    }
   ],
   "source": [
    "#파일 읽기 함수\n",
    "def f_OpenCsv(filename):\n",
    "    output = []\n",
    "\n",
    "    os.chdir('../data/')\n",
    "\n",
    "    f = open('popSeoul.csv','r', encoding='utf-8')\n",
    "\n",
    "    new = csv.reader(f)\n",
    "\n",
    "    for i in new:\n",
    "\n",
    "        output.append(i)\n",
    "\n",
    "    return output\n",
    "\n",
    "print(f_OpenCsv('popSeoul.csv'))\n"
   ]
  },
  {
   "cell_type": "code",
   "execution_count": 70,
   "metadata": {},
   "outputs": [],
   "source": [
    "#쓰기\n",
    "a = [['구','전체','내국인','외국인'],\n",
    "['관악구',519864,502089,17775],\n",
    "['강남구',547602,542468,5104],\n",
    "['송파구',686181,679247,6934],\n",
    "['강동구',428547,424235,4312]]\n",
    "\n",
    "f = open('test.csv', 'w', newline='')\n",
    "csvobject = csv.writer(f,delimiter=',')\n",
    "csvobject.writerows(a)\n",
    "\n",
    "f.close()"
   ]
  },
  {
   "cell_type": "code",
   "execution_count": 71,
   "metadata": {},
   "outputs": [],
   "source": [
    "# 쓰기를 함수화\n",
    "\n",
    "def f_WriterCsv(filename, the_list):\n",
    "    os.chdir('../data/')\n",
    "    with open('test.csv', 'w', newline='') as f :\n",
    "        csvobject = csv.writer(f,delimiter=',')\n",
    "        csvobject.writerows(the_list)"
   ]
  },
  {
   "cell_type": "code",
   "execution_count": 72,
   "metadata": {},
   "outputs": [],
   "source": [
    "a = [['구','전체','내국인','외국인'],\n",
    "['관악구',519864,502089,17775],\n",
    "['강남구',547602,542468,5104]]\n",
    "\n",
    "f_WriterCsv('test.csv',a)"
   ]
  },
  {
   "cell_type": "code",
   "execution_count": 73,
   "metadata": {},
   "outputs": [
    {
     "name": "stdout",
     "output_type": "stream",
     "text": [
      "27394\n"
     ]
    }
   ],
   "source": [
    "Total = f_OpenCsv('popSeoul.csv')\n",
    "\n",
    "input_list = Total[2]\n",
    "c_row = []\n",
    "\n",
    "for item_row in input_list:\n",
    "    item_row = item_row.replace(\",\",\"\")\n",
    "\n",
    "    try :\n",
    "        c_row.append(int(item_row))\n",
    "    except : \n",
    "        c_row.append(item_row)\n",
    "\n",
    "print(item_row)"
   ]
  },
  {
   "cell_type": "code",
   "execution_count": 74,
   "metadata": {},
   "outputs": [
    {
     "name": "stdout",
     "output_type": "stream",
     "text": [
      "['Yongsangu', 228830, 16159, 38531]\n"
     ]
    }
   ],
   "source": [
    "#여러행 처리\n",
    "input_list = Total[:5]\n",
    "c_list = []\n",
    "\n",
    "for item in input_list:\n",
    "    \n",
    "    c_row = []\n",
    "\n",
    "    for item_row in item:\n",
    "        item_row = item_row.replace(\",\",\"\")\n",
    "\n",
    "        try :\n",
    "            c_row.append(int(item_row))\n",
    "        except : \n",
    "            c_row.append(item_row)\n",
    "    c_list.append(c_row)\n",
    "print(c_row)"
   ]
  },
  {
   "cell_type": "code",
   "execution_count": 75,
   "metadata": {},
   "outputs": [],
   "source": [
    "#함수화\n",
    "\n",
    "def f_StringToInt(input_list):\n",
    "    c_list = []\n",
    "\n",
    "    for item in input_list:\n",
    "    \n",
    "        c_row = []\n",
    "\n",
    "        for item_row in item:\n",
    "            item_row = item_row.replace(\",\",\"\")\n",
    "\n",
    "            try :\n",
    "                c_row.append(int(item_row))\n",
    "            except : \n",
    "                c_row.append(item_row)\n",
    "        c_list.append(c_row)\n",
    "    return c_list"
   ]
  },
  {
   "cell_type": "code",
   "execution_count": 76,
   "metadata": {},
   "outputs": [
    {
     "name": "stdout",
     "output_type": "stream",
     "text": [
      "[['Gu', 'Korean', 'Foreigner', 'Senior'], ['Total', 9740398, 285529, 1468146], ['Jongrogu', 151767, 11093, 27394], ['Jongru', 126409, 10254, 23025], ['Yongsangu', 228830, 16159, 38531]]\n"
     ]
    }
   ],
   "source": [
    "print(f_StringToInt(Total[:5]))"
   ]
  },
  {
   "cell_type": "code",
   "execution_count": 77,
   "metadata": {},
   "outputs": [
    {
     "data": {
      "text/plain": [
       "2.85"
      ]
     },
     "execution_count": 77,
     "metadata": {},
     "output_type": "execute_result"
    }
   ],
   "source": [
    "Total = f_OpenCsv('popSeoul.csv')\n",
    "newPop = f_StringToInt(Total)\n",
    "\n",
    "i = newPop[1]\n",
    "\n",
    "foreign = round(i[2] / (i[1] + i[2]) * 100,2)\n",
    "foreign"
   ]
  },
  {
   "cell_type": "code",
   "execution_count": 80,
   "metadata": {},
   "outputs": [],
   "source": [
    "new = ['구','한국인','외국인','외국인비율(%)']\n",
    "for item in newPop:\n",
    "    foreign = 0\n",
    "\n",
    "    try:\n",
    "        foreign = round(item[2] / (item[1] + item[2]) * 100,2)\n",
    "\n",
    "        if foreign > 3 :\n",
    "            new.append([item[0],[item[2]],item[3], foreign])\n",
    "    except:\n",
    "        pass\n",
    "\n",
    "f_WriterCsv('newPopSeoul.scv', new)\n"
   ]
  }
 ],
 "metadata": {
  "kernelspec": {
   "display_name": "Python 3",
   "language": "python",
   "name": "python3"
  },
  "language_info": {
   "codemirror_mode": {
    "name": "ipython",
    "version": 3
   },
   "file_extension": ".py",
   "mimetype": "text/x-python",
   "name": "python",
   "nbconvert_exporter": "python",
   "pygments_lexer": "ipython3",
   "version": "3.10.13"
  }
 },
 "nbformat": 4,
 "nbformat_minor": 2
}
