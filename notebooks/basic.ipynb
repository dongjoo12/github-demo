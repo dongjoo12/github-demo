{
 "cells": [
  {
   "cell_type": "code",
   "execution_count": 1,
   "metadata": {},
   "outputs": [
    {
     "name": "stdout",
     "output_type": "stream",
     "text": [
      "재미있는 파\n"
     ]
    }
   ],
   "source": [
    "string = \"재미있는 파이썬\"\n",
    "\n",
    "print(string[0:6])\n"
   ]
  },
  {
   "cell_type": "code",
   "execution_count": 13,
   "metadata": {},
   "outputs": [
    {
     "name": "stdout",
     "output_type": "stream",
     "text": [
      "20240628\n",
      "Rainy\n"
     ]
    }
   ],
   "source": [
    "a = \"20240628Rainy\"\n",
    "\n",
    "print(a[0:8])\n",
    "print(a[8:])"
   ]
  },
  {
   "cell_type": "code",
   "execution_count": 28,
   "metadata": {},
   "outputs": [
    {
     "name": "stdout",
     "output_type": "stream",
     "text": [
      "19 99 년 11 월 20 일\n",
      "1999년 11월 20일 \n",
      "999999\n",
      "99년 11월 20일\n"
     ]
    }
   ],
   "source": [
    "bir = \"991120-12345678\"\n",
    "\n",
    "print('19',bir[0:2],'년',bir[2:4],'월',bir[4:6],'일')\n",
    "\n",
    "print('19'+bir[0:2]+'년 '+bir[2:4]+'월 '+bir[4:6]+'일 ')\n",
    "\n",
    "print(bir[0:2] * 3)\n",
    "\n",
    "print(f\"{bir[0:2]}년 {bir[2:4]}월 {bir[4:6]}일\")"
   ]
  },
  {
   "cell_type": "code",
   "execution_count": 32,
   "metadata": {},
   "outputs": [
    {
     "ename": "ValueError",
     "evalue": "invalid literal for int() with base 10: ''",
     "output_type": "error",
     "traceback": [
      "\u001b[0;31m---------------------------------------------------------------------------\u001b[0m",
      "\u001b[0;31mValueError\u001b[0m                                Traceback (most recent call last)",
      "Cell \u001b[0;32mIn[32], line 4\u001b[0m\n\u001b[1;32m      1\u001b[0m a \u001b[38;5;241m=\u001b[39m \u001b[38;5;28minput\u001b[39m(\u001b[38;5;124m'\u001b[39m\u001b[38;5;124m첫번째 숫자:\u001b[39m\u001b[38;5;124m'\u001b[39m)\n\u001b[1;32m      2\u001b[0m b \u001b[38;5;241m=\u001b[39m \u001b[38;5;28minput\u001b[39m(\u001b[38;5;124m'\u001b[39m\u001b[38;5;124m두번째 숫자:\u001b[39m\u001b[38;5;124m'\u001b[39m)\n\u001b[0;32m----> 4\u001b[0m a \u001b[38;5;241m=\u001b[39m \u001b[38;5;28;43mint\u001b[39;49m\u001b[43m(\u001b[49m\u001b[43ma\u001b[49m\u001b[43m)\u001b[49m\n\u001b[1;32m      5\u001b[0m b \u001b[38;5;241m=\u001b[39m \u001b[38;5;28mint\u001b[39m(b)\n\u001b[1;32m      7\u001b[0m \u001b[38;5;28mprint\u001b[39m(a\u001b[38;5;241m+\u001b[39mb)\n",
      "\u001b[0;31mValueError\u001b[0m: invalid literal for int() with base 10: ''"
     ]
    }
   ],
   "source": [
    "a = input('첫번째 숫자:')\n",
    "b = input('두번째 숫자:')\n",
    "\n",
    "a = int(a)\n",
    "b = int(b)\n",
    "\n",
    "print(a+b)"
   ]
  },
  {
   "cell_type": "code",
   "execution_count": 35,
   "metadata": {},
   "outputs": [
    {
     "name": "stdout",
     "output_type": "stream",
     "text": [
      "내 나이는 입니다\n",
      "내 나이는 입니다\n"
     ]
    }
   ],
   "source": [
    "age = input('나이를 입력하세요')\n",
    "\n",
    "print('내 나이는 '+ age +'입니다' )\n",
    "print(f'내 나이는 {age}입니다')"
   ]
  },
  {
   "cell_type": "code",
   "execution_count": 43,
   "metadata": {},
   "outputs": [
    {
     "ename": "TypeError",
     "evalue": "can only concatenate str (not \"int\") to str",
     "output_type": "error",
     "traceback": [
      "\u001b[0;31m---------------------------------------------------------------------------\u001b[0m",
      "\u001b[0;31mTypeError\u001b[0m                                 Traceback (most recent call last)",
      "Cell \u001b[0;32mIn[43], line 6\u001b[0m\n\u001b[1;32m      3\u001b[0m b \u001b[38;5;241m=\u001b[39m \u001b[38;5;28mlen\u001b[39m(a)\n\u001b[1;32m      5\u001b[0m \u001b[38;5;66;03m#print(b)\u001b[39;00m\n\u001b[0;32m----> 6\u001b[0m \u001b[38;5;28mprint\u001b[39m(\u001b[38;5;124;43m'\u001b[39;49m\u001b[38;5;124;43m문자열의 길이\u001b[39;49m\u001b[38;5;124;43m'\u001b[39;49m\u001b[43m \u001b[49m\u001b[38;5;241;43m+\u001b[39;49m\u001b[43m \u001b[49m\u001b[43mb\u001b[49m \u001b[38;5;241m+\u001b[39m \u001b[38;5;124m'\u001b[39m\u001b[38;5;124m입니다\u001b[39m\u001b[38;5;124m'\u001b[39m)\n",
      "\u001b[0;31mTypeError\u001b[0m: can only concatenate str (not \"int\") to str"
     ]
    }
   ],
   "source": [
    "a = input()\n",
    "\n",
    "b = len(a)\n",
    "\n",
    "#print(b)\n",
    "print('문자열의 길이' + b + '입니다')"
   ]
  },
  {
   "cell_type": "code",
   "execution_count": 49,
   "metadata": {},
   "outputs": [
    {
     "name": "stdout",
     "output_type": "stream",
     "text": [
      "['Life is ', ' too short']\n",
      "Life is \n"
     ]
    }
   ],
   "source": [
    "a = \"Life is : too short\"\n",
    "b = a.split(':')\n",
    "print(b)\n",
    "print(b[0])"
   ]
  },
  {
   "cell_type": "code",
   "execution_count": 53,
   "metadata": {},
   "outputs": [
    {
     "ename": "ValueError",
     "evalue": "not enough values to unpack (expected 3, got 0)",
     "output_type": "error",
     "traceback": [
      "\u001b[0;31m---------------------------------------------------------------------------\u001b[0m",
      "\u001b[0;31mValueError\u001b[0m                                Traceback (most recent call last)",
      "Cell \u001b[0;32mIn[53], line 3\u001b[0m\n\u001b[1;32m      1\u001b[0m \u001b[38;5;66;03m#평균값 40,50,60 3개를 이용한 스플릿 함수로 구하기\u001b[39;00m\n\u001b[0;32m----> 3\u001b[0m num1, num2, num3 \u001b[38;5;241m=\u001b[39m \u001b[38;5;28minput\u001b[39m()\u001b[38;5;241m.\u001b[39msplit()\n\u001b[1;32m      5\u001b[0m a \u001b[38;5;241m=\u001b[39m (\u001b[38;5;28mint\u001b[39m(num1)\u001b[38;5;241m+\u001b[39m \u001b[38;5;28mint\u001b[39m(num2) \u001b[38;5;241m+\u001b[39m \u001b[38;5;28mint\u001b[39m(num3))\u001b[38;5;241m/\u001b[39m\u001b[38;5;241m3\u001b[39m\n\u001b[1;32m      7\u001b[0m \u001b[38;5;28mprint\u001b[39m(a)\n",
      "\u001b[0;31mValueError\u001b[0m: not enough values to unpack (expected 3, got 0)"
     ]
    }
   ],
   "source": [
    "#평균값 40,50,60 3개를 이용한 스플릿 함수로 구하기\n",
    "\n",
    "num1, num2, num3 = input().split()\n",
    "\n",
    "a = (int(num1)+ int(num2) + int(num3))/3\n",
    "\n",
    "print(a)\n"
   ]
  },
  {
   "cell_type": "code",
   "execution_count": 62,
   "metadata": {},
   "outputs": [
    {
     "name": "stdout",
     "output_type": "stream",
     "text": [
      "우산을 가져가세요\n"
     ]
    }
   ],
   "source": [
    "w = input('날씨를 입력하세요')\n",
    "\n",
    "if w == \"비\" :\n",
    "    print('우산을 가져가세요')\n",
    "elif w == '햇빛' :\n",
    "    print('양산을 가져가세요')\n",
    "else :\n",
    "    print('우산을 가져가지 마세요')"
   ]
  },
  {
   "cell_type": "code",
   "execution_count": 73,
   "metadata": {},
   "outputs": [
    {
     "name": "stdout",
     "output_type": "stream",
     "text": [
      "5000\n"
     ]
    }
   ],
   "source": [
    "q = int(input('나이를 입력 하세요'))\n",
    "\n",
    "if q <= 12 :\n",
    "    price = 5000\n",
    "elif 13 <= q <=19 :\n",
    "    price = 7000\n",
    "else:\n",
    "    price = 10000\n",
    "\n",
    "print(price)"
   ]
  },
  {
   "cell_type": "code",
   "execution_count": 2,
   "metadata": {},
   "outputs": [
    {
     "ename": "ValueError",
     "evalue": "invalid literal for int() with base 10: ''",
     "output_type": "error",
     "traceback": [
      "\u001b[0;31m---------------------------------------------------------------------------\u001b[0m",
      "\u001b[0;31mValueError\u001b[0m                                Traceback (most recent call last)",
      "Cell \u001b[0;32mIn[2], line 1\u001b[0m\n\u001b[0;32m----> 1\u001b[0m e \u001b[38;5;241m=\u001b[39m \u001b[38;5;28;43mint\u001b[39;49m\u001b[43m(\u001b[49m\u001b[38;5;28;43minput\u001b[39;49m\u001b[43m(\u001b[49m\u001b[38;5;124;43m'\u001b[39;49m\u001b[38;5;124;43m점수를 입력해주세요: \u001b[39;49m\u001b[38;5;124;43m'\u001b[39;49m\u001b[43m)\u001b[49m\u001b[43m)\u001b[49m\n\u001b[1;32m      3\u001b[0m \u001b[38;5;28;01mif\u001b[39;00m e \u001b[38;5;241m>\u001b[39m\u001b[38;5;241m=\u001b[39m \u001b[38;5;241m90\u001b[39m:\n\u001b[1;32m      4\u001b[0m     grade \u001b[38;5;241m=\u001b[39m \u001b[38;5;124m'\u001b[39m\u001b[38;5;124ma\u001b[39m\u001b[38;5;124m'\u001b[39m\n",
      "\u001b[0;31mValueError\u001b[0m: invalid literal for int() with base 10: ''"
     ]
    }
   ],
   "source": [
    "e = int(input('점수를 입력해주세요: '))\n",
    "\n",
    "if e >= 90:\n",
    "    grade = 'a'\n",
    "elif e >= 80:\n",
    "    grade = 'b'\n",
    "elif e >= 70:\n",
    "    grade = 'c'\n",
    "elif e >= 60:\n",
    "    grade = 'd'\n",
    "else:\n",
    "    grade = 'f'\n",
    "\n",
    "print(grade)\n"
   ]
  },
  {
   "cell_type": "code",
   "execution_count": 10,
   "metadata": {},
   "outputs": [
    {
     "data": {
      "text/plain": [
       "[10, 20, 40]"
      ]
     },
     "execution_count": 10,
     "metadata": {},
     "output_type": "execute_result"
    }
   ],
   "source": [
    "a = [10,20,30]\n",
    "a[2] = 40\n",
    "a"
   ]
  },
  {
   "cell_type": "code",
   "execution_count": 13,
   "metadata": {},
   "outputs": [
    {
     "data": {
      "text/plain": [
       "['aa', 10, 20, 30]"
      ]
     },
     "execution_count": 13,
     "metadata": {},
     "output_type": "execute_result"
    }
   ],
   "source": [
    "a.append(100)\n",
    "a\n",
    "a = [10,20,30]\n",
    "a.insert(0,'aa')\n",
    "a"
   ]
  },
  {
   "cell_type": "code",
   "execution_count": 17,
   "metadata": {},
   "outputs": [
    {
     "data": {
      "text/plain": [
       "[10, 30]"
      ]
     },
     "execution_count": 17,
     "metadata": {},
     "output_type": "execute_result"
    }
   ],
   "source": [
    "a = [10,20,30]\n",
    "\n",
    "del a[1]\n",
    "a"
   ]
  },
  {
   "cell_type": "code",
   "execution_count": 22,
   "metadata": {},
   "outputs": [
    {
     "name": "stdout",
     "output_type": "stream",
     "text": [
      "5050\n"
     ]
    }
   ],
   "source": [
    "cnt = 0\n",
    "result = 0\n",
    "\n",
    "\n",
    "while cnt < 100:\n",
    "    cnt += 1\n",
    "    result = result + cnt\n",
    "\n",
    "print(result)"
   ]
  },
  {
   "cell_type": "code",
   "execution_count": 26,
   "metadata": {},
   "outputs": [
    {
     "ename": "KeyboardInterrupt",
     "evalue": "",
     "output_type": "error",
     "traceback": [
      "\u001b[0;31m---------------------------------------------------------------------------\u001b[0m",
      "\u001b[0;31mKeyboardInterrupt\u001b[0m                         Traceback (most recent call last)",
      "Cell \u001b[0;32mIn[26], line 7\u001b[0m\n\u001b[1;32m      5\u001b[0m num \u001b[38;5;241m=\u001b[39m \u001b[38;5;241m-\u001b[39m\u001b[38;5;241m1\u001b[39m\n\u001b[1;32m      6\u001b[0m \u001b[38;5;28;01mwhile\u001b[39;00m num \u001b[38;5;241m<\u001b[39m \u001b[38;5;241m9\u001b[39m :\n\u001b[0;32m----> 7\u001b[0m     \u001b[38;5;28;01mif\u001b[39;00m a[num] \u001b[38;5;241m>\u001b[39m\u001b[38;5;241m=\u001b[39m \u001b[38;5;241m50\u001b[39m :\n\u001b[1;32m      8\u001b[0m         r \u001b[38;5;241m=\u001b[39m r \u001b[38;5;241m+\u001b[39m num\n",
      "\u001b[0;31mKeyboardInterrupt\u001b[0m: "
     ]
    }
   ],
   "source": [
    "#다음은 a학급의 학생의 점수를 나타내는 리스트이다. 다음 리스트에서 50점 이상의 점수들의 총합을 구하시요\n",
    "\n",
    "a = [20,55,67,82,48,33,90,87,100,25]\n",
    "r=0\n",
    "num = -1\n",
    "while num < 9 :\n",
    "    if a[num] >= 50 :\n",
    "        r = r + num\n",
    "\n"
   ]
  },
  {
   "cell_type": "code",
   "execution_count": 31,
   "metadata": {},
   "outputs": [
    {
     "name": "stdout",
     "output_type": "stream",
     "text": [
      "3 3 3 3\n"
     ]
    }
   ],
   "source": [
    "# 혈핵형 별 합계 구하기\n",
    "L = ['A','B','A','O','AB','AB','O','A','B','O','B','AB']\n",
    "a=0\n",
    "b=0\n",
    "o=0\n",
    "ab=0\n",
    "\n",
    "for i in L :\n",
    "    if i == 'A':\n",
    "        a += 1\n",
    "    elif i== 'B':\n",
    "        b += 1\n",
    "    elif i== 'O':\n",
    "        o += 1\n",
    "    elif i== 'AB':\n",
    "        ab += 1\n",
    "\n",
    "print(a,b,o,ab) \n"
   ]
  },
  {
   "cell_type": "code",
   "execution_count": 33,
   "metadata": {},
   "outputs": [
    {
     "data": {
      "text/plain": [
       "30"
      ]
     },
     "execution_count": 33,
     "metadata": {},
     "output_type": "execute_result"
    }
   ],
   "source": [
    "def add(a,b):\n",
    "    return a+b\n",
    "\n",
    "add(10,20)"
   ]
  },
  {
   "cell_type": "code",
   "execution_count": 37,
   "metadata": {},
   "outputs": [
    {
     "data": {
      "text/plain": [
       "(40, -20)"
      ]
     },
     "execution_count": 37,
     "metadata": {},
     "output_type": "execute_result"
    }
   ],
   "source": [
    "def f_p_m(x,y):\n",
    "    p = x+y\n",
    "    m = x-y\n",
    "\n",
    "    return(p,m)\n",
    "\n",
    "f_p_m(10,30)"
   ]
  },
  {
   "cell_type": "code",
   "execution_count": 2,
   "metadata": {},
   "outputs": [
    {
     "name": "stdout",
     "output_type": "stream",
     "text": [
      "True\n"
     ]
    }
   ],
   "source": [
    "def f_odd(arg):\n",
    "    if arg % 2 == 1 :\n",
    "        return True\n",
    "    else:\n",
    "        return False\n",
    "    \n",
    "print(f_odd(3))\n"
   ]
  },
  {
   "cell_type": "code",
   "execution_count": 10,
   "metadata": {},
   "outputs": [
    {
     "name": "stdout",
     "output_type": "stream",
     "text": [
      "우유이(가) 추가되었습니다.\n",
      "빵이(가) 추가되었습니다.\n",
      "현재 쇼핑리스트\n",
      "-우유\n",
      "-빵\n",
      "빵이(가) 삭제 되었습니다.\n",
      "현재 쇼핑리스트\n",
      "-우유\n"
     ]
    }
   ],
   "source": [
    "shopping_list = []\n",
    "#리스트 추가 함수\n",
    "def add_item(item):\n",
    "    shopping_list.append(item)\n",
    "    print(f\"{item}이(가) 추가되었습니다.\")\n",
    "\n",
    "#목록 출력\n",
    "def show_list():\n",
    "    if shopping_list:\n",
    "        print(\"현재 쇼핑리스트\")\n",
    "        for item in shopping_list:\n",
    "            print(f\"-{item}\")\n",
    "    else : \n",
    "        print('리스트가 비었습니다.')\n",
    "\n",
    "# 목록 삭제\n",
    "def remove_item(item):\n",
    "    if item in shopping_list:\n",
    "        shopping_list.remove(item)\n",
    "        print(f\"{item}이(가) 삭제 되었습니다.\")\n",
    "    else:\n",
    "        print(f\"{item}이(가) 없습니다.\")\n",
    "add_item(\"우유\")\n",
    "add_item(\"빵\")\n",
    "show_list()\n",
    "remove_item(\"빵\")\n",
    "show_list()"
   ]
  }
 ],
 "metadata": {
  "kernelspec": {
   "display_name": "Python 3",
   "language": "python",
   "name": "python3"
  },
  "language_info": {
   "codemirror_mode": {
    "name": "ipython",
    "version": 3
   },
   "file_extension": ".py",
   "mimetype": "text/x-python",
   "name": "python",
   "nbconvert_exporter": "python",
   "pygments_lexer": "ipython3",
   "version": "3.10.13"
  }
 },
 "nbformat": 4,
 "nbformat_minor": 2
}
